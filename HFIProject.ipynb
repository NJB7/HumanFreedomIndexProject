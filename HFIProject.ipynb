{
 "cells": [
  {
   "cell_type": "code",
   "execution_count": null,
   "metadata": {},
   "outputs": [],
   "source": [
    "import pandas as pd\n",
    "import numpy as np\n",
    "import matplotlib.pyplot as plt\n",
    "import json\n",
    "import sys\n",
    "sys.path.append('C:/Users/nicol/anaconda3/Lib/site-packages')\n",
    "import openpyxl\n",
    "\n",
    "#check screenshot for how to import right from a url\n",
    "\n",
    "url = \"https://www.cato.org/sites/cato.org/files/2021-12/HFI2021.json\"\n",
    "path = \"/Users/nicol/Dropbox/Programming/HumanFreedomIndexProject/HFI2021.json\"\n",
    "\n",
    "df1 = pd.read_json(path)\n",
    "# df1\n",
    "# print(df1)\n",
    "\n",
    "# list all columns\n",
    "cols = list(df1.columns.values)\n",
    "print(cols)\n",
    "\n",
    "# big picture stats:\n",
    "df1.describe()\n",
    "# df1.info()\n",
    "# to iterate through all rows - keep for later, just in case\n",
    "# for index, row in df1.iterrows(): \n",
    "#     print(index, row)"
   ]
  },
  {
   "cell_type": "code",
   "execution_count": null,
   "metadata": {},
   "outputs": [],
   "source": [
    "df2 = df1.sort_values(\"region\", ascending=True)\n",
    "df2[cols].dtypes"
   ]
  },
  {
   "cell_type": "code",
   "execution_count": null,
   "metadata": {},
   "outputs": [],
   "source": [
    "# worldwide averages by region\n",
    "\n",
    "(df1.groupby(\"region\")\n",
    "    .mean()\n",
    "    .sort_values(\"hf_score\", ascending = False))"
   ]
  },
  {
   "cell_type": "code",
   "execution_count": null,
   "metadata": {},
   "outputs": [],
   "source": [
    "# single condition:\n",
    "df3 = (df1.sort_values(\"hf_score\", ascending=False)\n",
    "    .loc[df1[\"region\"] == \"Middle East & North Africa\"])\n",
    "\n",
    "df3"
   ]
  },
  {
   "cell_type": "code",
   "execution_count": null,
   "metadata": {},
   "outputs": [],
   "source": [
    "#multiple conditions:\n",
    "df4 = df1.loc[(df1[\"region\"] == \"Middle East & North Africa\")\n",
    "    & (df1[\"year\"] == 2019)]\n",
    "df4\n"
   ]
  },
  {
   "cell_type": "code",
   "execution_count": null,
   "metadata": {},
   "outputs": [],
   "source": [
    "# dfme = (df1.loc[df1[\"region\"] == \"Middle East & North Africa\"]\n",
    "#     .sort_values(\"hf_score\", ascending=False)\n",
    "#         .drop(columns=['region']))\n",
    "#     # .groupby([\"countries\"]).mean())\n",
    "\n",
    "dfme = (df1[['year', 'countries', 'hf_score', 'hf_rank', 'pf_score', 'ef_score']]\n",
    "       .loc[df2[\"region\"] == \"Middle East & North Africa\"]\n",
    "       .sort_values([\"year\", \"hf_score\"], ascending=False))\n",
    "dfme"
   ]
  },
  {
   "cell_type": "code",
   "execution_count": null,
   "metadata": {},
   "outputs": [],
   "source": [
    "# worldwide averages by country\n",
    "# \n",
    "dfscores = (df1[['year', 'countries', 'hf_score', 'ef_score', 'pf_score']]\n",
    "    .groupby([\"countries\"]).mean()\n",
    "    .sort_values(\"hf_score\", ascending=False))\n",
    "dfscores"
   ]
  },
  {
   "cell_type": "code",
   "execution_count": null,
   "metadata": {},
   "outputs": [],
   "source": [
    "# worldwide averages by year\n",
    "\n",
    "(df1[['year', 'countries', 'hf_score', 'ef_score', 'pf_score']]\n",
    "    .groupby([\"year\"]).mean()\n",
    "    .sort_values(\"year\", ascending=True))\n"
   ]
  },
  {
   "cell_type": "code",
   "execution_count": null,
   "metadata": {},
   "outputs": [],
   "source": [
    "dfmedia = df1.loc[(df1[\"pf_expression_internet\"] > 9) & (df1[\"pf_expression_media\"] > 9)]\n",
    "dfmedia"
   ]
  },
  {
   "cell_type": "code",
   "execution_count": null,
   "metadata": {},
   "outputs": [],
   "source": [
    "dfmedia[dfmedia.columns[0:5]].dropna()"
   ]
  },
  {
   "cell_type": "code",
   "execution_count": null,
   "metadata": {},
   "outputs": [],
   "source": [
    "# find out if any countries have dropped enough in score to skew the worldwide mean so that it looks like a slight downward trend\n",
    "\n",
    "    # this section is me trying to figure out how to isolate the 2018 and 2019 hf_score values\n",
    "    # the next section is me trying to find the difference between them\n",
    "\n",
    "# dfdec = ((df1[['year', 'countries', 'region', 'hf_score', 'hf_rank', 'pf_score', 'ef_score']]\n",
    "#     .loc[((df1[\"pf_score\"] < 5) & ((df1[\"year\"] == 2019) | (df1[\"year\"] == 2018)))\n",
    "#          | ((df1[\"ef_score\"] < 5) & ((df1[\"year\"] == 2019) | (df1[\"year\"] == 2018)))].sort_values(\"countries\")))\n",
    "# dfdec\n",
    "\n",
    "\n",
    "# df2019 = ((df1[['year', 'countries', 'region', 'hf_score', 'hf_rank', 'pf_score', 'ef_score']]\n",
    "#           .loc[((df1[\"pf_score\"] < 5) & (df1[\"year\"] == 2019))\n",
    "#                | ((df1[\"ef_score\"] < 5) & (df1[\"year\"] == 2019))].sort_values(\"countries\")))\n",
    "# df2019\n",
    "\n",
    "# df2018 = ((df1[['year', 'countries', 'region', 'hf_score', 'hf_rank', 'pf_score', 'ef_score']]\n",
    "#            .loc[((df1[\"pf_score\"] < 5) & (df1[\"year\"] == 2018))\n",
    "#                | ((df1[\"ef_score\"] < 5) & (df1[\"year\"] == 2018))].sort_values(\"countries\")))\n",
    "# df2018\n",
    "\n",
    "\n",
    "df2019 = ((df1[['year', 'countries', 'region', 'hf_score', 'hf_rank', 'pf_score', 'ef_score']]\n",
    "           .loc[(df1[\"year\"] == 2019)]\n",
    "             .sort_values(\"countries\")))\n",
    "df2019\n",
    "\n",
    "df2018 = ((df1[['year', 'countries', 'region', 'hf_score', 'hf_rank', 'pf_score', 'ef_score']]\n",
    "           .loc[(df1[\"year\"] == 2018)]\n",
    "             .sort_values(\"countries\")))\n",
    "df2018\n"
   ]
  },
  {
   "cell_type": "code",
   "execution_count": null,
   "metadata": {},
   "outputs": [],
   "source": [
    "#show list of Middle Eastern country names for the line graph in the next section\n",
    "dfme.groupby(\"countries\").mean()"
   ]
  },
  {
   "cell_type": "code",
   "execution_count": null,
   "metadata": {},
   "outputs": [],
   "source": [
    "# plot ME countries\n",
    "\n",
    "dfmeE = (dfme[[\"year\", \"countries\", \"hf_score\"]]\n",
    "    .loc[(dfme[\"countries\"] == \"Egypt, Arab Rep.\")])\n",
    "\n",
    "dfmeI = (dfme[[\"year\", \"countries\", \"hf_score\"]]\n",
    "         .loc[(dfme[\"countries\"] == \"Israel\")])\n",
    "\n",
    "dfmeJ = (dfme[[\"year\", \"countries\", \"hf_score\"]]\n",
    "         .loc[(dfme[\"countries\"] == \"Jordan\")])\n",
    "\n",
    "dfmeL = (dfme[[\"year\", \"countries\", \"hf_score\"]]\n",
    "         .loc[(dfme[\"countries\"] == \"Lebanon\")])\n",
    "\n",
    "dfmeS = (dfme[[\"year\", \"countries\", \"hf_score\"]]\n",
    "         .loc[(dfme[\"countries\"] == \"Syrian Arab Republic\")])\n",
    "\n",
    "dfmeIR = (dfme[[\"year\", \"countries\", \"hf_score\"]]\n",
    "         .loc[(dfme[\"countries\"] == \"Iraq\")])\n",
    "\n",
    "xE = dfmeE[\"year\"]\n",
    "yE = dfmeE[\"hf_score\"]\n",
    "xIR = dfmeIR[\"year\"]\n",
    "yIR = dfmeIR[\"hf_score\"]\n",
    "xI = dfmeI[\"year\"]\n",
    "yI = dfmeI[\"hf_score\"]\n",
    "xJ = dfmeJ[\"year\"]\n",
    "yJ = dfmeJ[\"hf_score\"]\n",
    "xL = dfmeL[\"year\"]\n",
    "yL = dfmeL[\"hf_score\"]\n",
    "xS = dfmeS[\"year\"]\n",
    "yS = dfmeS[\"hf_score\"]\n",
    "\n",
    "plt.plot(xE, yE, label=\"Egypt\")\n",
    "plt.plot(xIR, yIR, label=\"Iraq\")\n",
    "plt.plot(xI, yI, label=\"Israel\")\n",
    "plt.plot(xJ, yJ, label=\"Jordan\")\n",
    "plt.plot(xL, yL, label=\"Lebanon\")\n",
    "plt.plot(xS, yS, label=\"Syria\")\n",
    "\n",
    "plt.title(\"HFI scores from 2008-2019\", fontdict = {\"fontname\": \"Arial\", \"fontsize\": 20})\n",
    "plt.xlabel(\"Year\")\n",
    "plt.ylabel(\"Human Freedom Score\")\n",
    "\n",
    "# plt.xticks([2008, 2009, 2010, 2011, 2012, 2013, 2014, 2015, 2016, 2017, 2018, 2019])\n",
    "plt.yticks([1,2,3,4,5,6,7,8,9])\n",
    "# plt.legend()\n",
    "fig = matplotlib.pyplot.gcf()\n",
    "fig.savefig('mehfiline.png', dpi=300)\n",
    "\n",
    "plt.show()\n"
   ]
  },
  {
   "cell_type": "code",
   "execution_count": null,
   "metadata": {},
   "outputs": [],
   "source": [
    "# # attempt to plot ME countries more effectively\n",
    "\n",
    "# # country = [\"Algeria\", \"Bahrain\", \"Egypt, Arab Rep.\", \"Iran, Islamic Rep.\", \"Iraq\", \"Israel\", \"Jordan\", \"Kuwait\", \"Lebanon\", \"Libya\", \"Morocco\", \"Oman\",\n",
    "# #     \"Qatar\", \"Saudi Arabia\", \"Syrian Arab Republic\", \"Tunisia\", \"Turkey\", \"United Arab Emirates\", \"Yemen, Rep.\"]\n",
    "\n",
    "# for countries in dfme:\n",
    "#     x = dfme[\"year\"]\n",
    "#     y = dfme[\"hf_score\"]\n",
    "#     plt.scatter(x, y)\n",
    "#     plt.plot(x, y)\n",
    "#     # plt.legend(dfme.loc[(dfme[\"countries\"])])\n",
    "\n",
    "# plt.title(\"HFI scores from 2008-2019\",\n",
    "#           fontdict={\"fontname\": \"Arial\", \"fontsize\": 20})\n",
    "# plt.xlabel(\"Year\")\n",
    "# plt.ylabel(\"Human Freedom Score\")\n",
    "\n",
    "# # plt.xticks([2008, 2009, 2010, 2011, 2012, 2013, 2014, 2015, 2016, 2017, 2018, 2019])\n",
    "# plt.yticks([2, 3, 4, 5, 6, 7, 8, 9])\n",
    "# # plt.legend()\n",
    "# fig = matplotlib.pyplot.gcf()\n",
    "# fig.savefig('mehfiline2.png', dpi=300)\n",
    "\n",
    "# plt.show()\n"
   ]
  },
  {
   "cell_type": "code",
   "execution_count": null,
   "metadata": {},
   "outputs": [],
   "source": [
    "# pivot tables\n",
    "\n",
    "dfme = (df1[['year', 'countries', 'region', 'hf_score']]\n",
    "        .loc[df2[\"region\"] == \"Middle East & North Africa\"]\n",
    "        .sort_values([\"year\", \"countries\"], ascending=False))\n",
    "\n",
    "dfmepivot = pd.pivot_table(data=dfme, index=['countries', 'year'])\n",
    "dfmepivot\n",
    "\n",
    "\n",
    "dfmepivot2 = pd.pivot_table(\n",
    "    data=dfme, index=['year'], columns=[\"countries\"])\n",
    "dfmepivot2\n"
   ]
  },
  {
   "cell_type": "code",
   "execution_count": null,
   "metadata": {},
   "outputs": [],
   "source": [
    "# attempt 2 to plot ME countries more effectively - with pivot table\n",
    "\n",
    "labels = [\"Algeria\", \"Bahrain\", \"Egypt, Arab Rep.\", \"Iran, Islamic Rep.\", \"Iraq\", \"Israel\", \"Jordan\", \"Kuwait\", \"Lebanon\", \"Libya\", \"Morocco\", \"Oman\", \n",
    "    \"Qatar\", \"Saudi Arabia\", \"Syrian Arab Republic\", \"Tunisia\", \"Turkey\", \"United Arab Emirates\", \"Yemen, Rep.\"]\n",
    "\n",
    "colors = ['#f44336', '#e81e63', '#9c27b0', '#673ab7', '#3f51b5', '#0a6ebd', '#03a9f4', '#00bcd4', '#009688', '#4caf50',\n",
    "          '#8bc34a', '#cddc39', '#ffc107', '#ff9800', '#ff5722', '#795548', '#9e9e9e', '#607d8b', '#ffffff']\n",
    "\n",
    "ax = dfmepivot2.plot(color=colors)\n",
    "\n",
    "ax.legend(bbox_to_anchor=(1.0, 0.8), labels=labels)\n",
    "# plt.style.use(\"signature_style_1.ipynb\")\n",
    "\n",
    "plt.title(\"HFI scores from 2008-2019\",\n",
    "          fontdict={\"fontname\": \"Arial\", \"fontsize\": 20})\n",
    "plt.xlabel(\"Year\", fontdict={\"fontname\": \"Arial\", \"fontsize\": 15})\n",
    "plt.ylabel(\"Human Freedom Score\", fontdict={\n",
    "           \"fontname\": \"Arial\", \"fontsize\": 15})\n",
    "fig.savefig('mehfiline2.png', dpi=300)\n",
    "\n",
    "plt.show()\n"
   ]
  },
  {
   "cell_type": "code",
   "execution_count": null,
   "metadata": {},
   "outputs": [],
   "source": [
    "# this is interesting. Try a box and whisker chart to follow up on the lower outliers.\n",
    "\n",
    "plt.scatter(df1[\"year\"], df1[\"hf_score\"], color=\"#673ab7\")\n",
    "\n",
    "plt.title(\"HFI scores from 2008-2019\",\n",
    "          fontdict={\"fontname\": \"Arial\", \"fontsize\": 20})\n",
    "plt.xlabel(\"Year\")\n",
    "plt.ylabel(\"Human Freedom Score\")\n",
    "\n",
    "# plt.xticks([2008, 2009, 2010, 2011, 2012, 2013, 2014, 2015, 2016, 2017, 2018, 2019])\n",
    "plt.yticks([3, 4, 5, 6, 7, 8, 9, 10])\n",
    "fig = matplotlib.pyplot.gcf()\n",
    "fig.set_size_inches(10, 10)\n",
    "fig.savefig('hfiscatter.png', dpi=300)\n",
    "\n",
    "plt.show()\n"
   ]
  },
  {
   "cell_type": "code",
   "execution_count": null,
   "metadata": {},
   "outputs": [],
   "source": [
    "# box and whiskers plot\n",
    "\n",
    "df1.boxplot(column=['hf_score'], by='region', color=\"#e81e63\")\n",
    "# plt.title(\"HFI scores from 2008-2019\",\n",
    "#           fontdict={\"fontname\": \"Arial\", \"fontsize\": 20})\n",
    "plt.xlabel(\"Region\", fontdict={\"fontname\": \"Arial\", \"fontsize\": 15})\n",
    "plt.ylabel(\"Human Freedom Score\", fontdict={\n",
    "           \"fontname\": \"Arial\", \"fontsize\": 15})\n",
    "plt.xticks(rotation=90)\n",
    "\n",
    "fig.savefig('regionhfibox.png', dpi=300)\n",
    "\n",
    "plt.show()\n"
   ]
  },
  {
   "cell_type": "code",
   "execution_count": null,
   "metadata": {},
   "outputs": [],
   "source": [
    "#solve difference problem with pivot table\n",
    "\n",
    "dfregion = (df1[[\"year\", \"countries\", \"region\", \"hf_score\"]]\n",
    "            .sort_values([\"year\", \"region\"], ascending=False))\n",
    "dfregion\n",
    "\n",
    "dfregionpivot = pd.pivot_table(data=dfregion, index=['year'], columns=[\"region\"])\n",
    "dfregionpivot\n",
    "\n",
    "# dfdec[\"hfdiff\"] = dfregionpivot[\"2018\"] - dfregionpivot[\"2019\"]"
   ]
  },
  {
   "cell_type": "code",
   "execution_count": null,
   "metadata": {},
   "outputs": [],
   "source": [
    "# plotting by region. try this for a simpler version of the dfme plot\n",
    "\n",
    "labels = [\"Caucasus & Central Asia\", \"East Asia\", \"Eastern Europe\", \"Latin America & the Caribbean\", \"Middle East & North Africa\", \"North America\", \"Oceania\",\n",
    "          \"South Asia\", \"Sub-Saharan Africa\", \"Western Europe\"]\n",
    "colors = ['#e81e63', '#9c27b0', '#673ab7', '#3f51b5', '#03a9f4',\n",
    "          '#009688', '#4caf50', '#cddc39', '#ffc107', '#ff9800']\n",
    "\n",
    "ax = dfregionpivot.plot(color=colors)\n",
    "\n",
    "ax.legend(bbox_to_anchor=(1.0, 0.8), labels=labels)\n",
    "# plt.style.use(\"signature_style_1.ipynb\")\n",
    "\n",
    "plt.title(\"HFI scores from 2008-2019\",\n",
    "          fontdict={\"fontname\": \"Arial\", \"fontsize\": 20})\n",
    "plt.xlabel(\"Year\", fontdict={\"fontname\": \"Arial\", \"fontsize\": 15})\n",
    "plt.ylabel(\"Human Freedom Score\", fontdict={\n",
    "           \"fontname\": \"Arial\", \"fontsize\": 15})\n",
    "\n",
    "fig.savefig('regionhfiline.png', dpi=300)\n",
    "\n",
    "plt.show()\n"
   ]
  },
  {
   "cell_type": "code",
   "execution_count": null,
   "metadata": {},
   "outputs": [],
   "source": [
    "# insert columns for evaluations e.g. \"very free\", \"not free\"\n"
   ]
  },
  {
   "cell_type": "code",
   "execution_count": null,
   "metadata": {},
   "outputs": [],
   "source": [
    "# figure out the transpose function to switch columns and rows?\n"
   ]
  },
  {
   "cell_type": "code",
   "execution_count": null,
   "metadata": {},
   "outputs": [],
   "source": [
    "# Save and export:\n",
    "\n",
    "# df3.to_csv(\"writers.csv\", index = False)\n",
    "dfme.to_excel(\"dfme.xlsx\", index=False)\n",
    "dfregion.to_excel(\"dfregion.xlsx\", index=False)\n",
    "# df4.to_csv(\"df4.txt\", index = False, sep = \"\\t\")\n"
   ]
  }
 ],
 "metadata": {
  "kernelspec": {
   "display_name": "Python 3.7.10 ('datasci')",
   "language": "python",
   "name": "python3"
  },
  "language_info": {
   "codemirror_mode": {
    "name": "ipython",
    "version": 3
   },
   "file_extension": ".py",
   "mimetype": "text/x-python",
   "name": "python",
   "nbconvert_exporter": "python",
   "pygments_lexer": "ipython3",
   "version": "3.7.10"
  },
  "orig_nbformat": 4,
  "vscode": {
   "interpreter": {
    "hash": "e8995052c9e9f1df8bb91b14c7f689d7ad5c2f2e52a5275211e8b13424b65fb1"
   }
  }
 },
 "nbformat": 4,
 "nbformat_minor": 2
}
